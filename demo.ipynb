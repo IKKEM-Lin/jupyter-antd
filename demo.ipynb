{
 "cells": [
  {
   "cell_type": "markdown",
   "metadata": {},
   "source": [
    "# Demo"
   ]
  },
  {
   "cell_type": "code",
   "execution_count": null,
   "metadata": {},
   "outputs": [],
   "source": [
    "# Button example\n",
    "from ja_py.button import Button\n",
    "\n",
    "def handle_click(x):\n",
    "    btn.label = \"1234\"\n",
    "    \n",
    "btn = Button(\"test\", handle_click, props={\"type\": \"default\", \"size\": \"large\"})\n",
    "btn"
   ]
  },
  {
   "cell_type": "code",
   "execution_count": null,
   "metadata": {},
   "outputs": [],
   "source": [
    "# Input example\n",
    "from ja_py.input import Input\n",
    "temp = Input(\"test: \", props={\"type\": \"default\", \"size\": \"large\"})\n",
    "temp2 = Input(props={\"type\": \"default\", \"size\": \"small\"})\n",
    "        \n",
    "display(temp)\n",
    "display(temp2)"
   ]
  },
  {
   "cell_type": "code",
   "execution_count": null,
   "metadata": {},
   "outputs": [],
   "source": [
    "# Radio example\n",
    "from ja_py.radio import Radio\n",
    "\n",
    "temp = Radio(\"test: \", [\"1\", \"2\", \"3\"])\n",
    "temp2 = Radio(\"\", [{\"label\": \"option 1\", \"value\": \"1\"}, {\"label\": \"option 2\", \"value\": \"2\"}],\"1\")\n",
    "        \n",
    "display(temp)\n",
    "display(temp2)"
   ]
  },
  {
   "cell_type": "code",
   "execution_count": null,
   "metadata": {},
   "outputs": [],
   "source": [
    "# Select example\n",
    "from ja_py.select import Select\n",
    "\n",
    "temp = Select(\"test: \", [{\"label\": \"op 1\", \"value\": \"1\"}, {\"label\": \"op 2\", \"value\": \"2\"}])\n",
    "temp2 = Select(\"\", [{\"label\": \"option 1\", \"value\": \"1\"}, {\"label\": \"option 2\", \"value\": \"2\"}],\"1\")\n",
    "        \n",
    "display(temp)\n",
    "display(temp2)"
   ]
  },
  {
   "cell_type": "code",
   "execution_count": null,
   "metadata": {},
   "outputs": [],
   "source": [
    "# FileSelector example\n",
    "from ja_py.file_selector import FileSelector\n",
    "        \n",
    "temp = FileSelector(\"选择文件\")\n",
    "temp2 = FileSelector(\"选择文件夹\", dir_select = True)\n",
    "        \n",
    "display(temp)\n",
    "display(temp2)\n",
    "        "
   ]
  },
  {
   "cell_type": "code",
   "execution_count": null,
   "metadata": {},
   "outputs": [],
   "source": [
    "# Formily example\n",
    "from ja_py.formily import Formily\n",
    "        \n",
    "default_schema = {\n",
    "  \"type\": \"object\",\n",
    "  \"properties\": {\n",
    "    \"accuracy\": {\n",
    "      \"type\": \"string\",\n",
    "      \"title\": \"accuracy\",\n",
    "      \"x-decorator\": \"FormItem\",\n",
    "      \"x-component\": \"Radio.Group\",\n",
    "      \"enum\": [\n",
    "        {\n",
    "          \"children\": [],\n",
    "          \"label\": \"hight\",\n",
    "          \"value\": \"hight\"\n",
    "        },\n",
    "        {\n",
    "          \"children\": [],\n",
    "          \"label\": \"medium\",\n",
    "          \"value\": \"medium\"\n",
    "        },\n",
    "        {\n",
    "          \"children\": [],\n",
    "          \"label\": \"low\",\n",
    "          \"value\": \"low\"\n",
    "        }\n",
    "      ],\n",
    "      \"x-validator\": [],\n",
    "      \"x-component-props\": {},\n",
    "      \"x-decorator-props\": {},\n",
    "      \"name\": \"accuracy\",\n",
    "      \"x-designable-id\": \"ddrtibho837\",\n",
    "      \"x-index\": 0\n",
    "    },\n",
    "    \"style\": {\n",
    "      \"type\": \"string\",\n",
    "      \"title\": \"style\",\n",
    "      \"x-decorator\": \"FormItem\",\n",
    "      \"x-component\": \"Radio.Group\",\n",
    "      \"enum\": [\n",
    "        {\n",
    "          \"children\": [],\n",
    "          \"label\": \"metal\",\n",
    "          \"value\": \"metal\"\n",
    "        },\n",
    "        {\n",
    "          \"children\": [],\n",
    "          \"label\": \"liqud\",\n",
    "          \"value\": \"liqud\"\n",
    "        },\n",
    "        {\n",
    "          \"children\": [],\n",
    "          \"label\": \"gas\",\n",
    "          \"value\": \"gas\"\n",
    "        }\n",
    "      ],\n",
    "      \"x-validator\": [],\n",
    "      \"x-component-props\": {},\n",
    "      \"x-decorator-props\": {},\n",
    "      \"name\": \"style\",\n",
    "      \"x-designable-id\": \"8j01zxpbhn3\",\n",
    "      \"x-index\": 1\n",
    "    },\n",
    "      \n",
    "    \"file\": {\n",
    "      \"type\": \"string\",\n",
    "      \"title\": \"custom\",\n",
    "      \"x-decorator\": \"FormItem\",\n",
    "      \"x-component\": \"FileSelectorForFormily\",\n",
    "      \"x-validator\": [],\n",
    "      \"x-component-props\": {\"label\": \"文件上传\"},\n",
    "      \"x-decorator-props\": {},\n",
    "      \"name\": \"custom\",\n",
    "      \"x-designable-id\": \"8j01zerbhn3\",\n",
    "      \"x-index\": 2\n",
    "    },\n",
    "      \"x147n5adizk\": {\n",
    "        \"type\": \"string\",\n",
    "        \"title\": \"Input\",\n",
    "        \"x-decorator\": \"FormItem\",\n",
    "        \"x-component\": \"Input\",\n",
    "        \"x-validator\": [],\n",
    "        \"x-component-props\": {},\n",
    "        \"x-decorator-props\": {},\n",
    "        \"x-designable-id\": \"x147n5adizk\",\n",
    "        \"x-index\": 3\n",
    "      },\n",
    "  }\n",
    "}\n",
    "\n",
    "temp = Formily(default_schema, False)\n",
    "temp2 = Formily(default_schema)\n",
    "display(temp)\n",
    "display(temp2)"
   ]
  },
  {
   "cell_type": "markdown",
   "metadata": {},
   "source": [
    "# Test code below, please ignore"
   ]
  },
  {
   "cell_type": "code",
   "execution_count": null,
   "metadata": {},
   "outputs": [],
   "source": [
    "import ja_py\n",
    "\n",
    "basic_set_file = ja_py.FileSelector(\"basic_set_file\")\n",
    "potential_file = ja_py.FileSelector(\"potential_file\")\n",
    "xyz_file = ja_py.FileSelector(\"xyz_file\")\n",
    "accuracy = ja_py.Radio(\"accuracy: \", [\"high\", \"medium\", \"low\"], default_value = \"high\")\n",
    "style = ja_py.Radio(\"style: \", [\"metal\", \"liquid\", \"gas\"], default_value = \"metal\")\n",
    "out_dir = ja_py.FileSelector(\"out_dir\", dir_select = True)\n",
    "        \n",
    "display(basic_set_file)\n",
    "display(potential_file)\n",
    "display(xyz_file)\n",
    "display(accuracy)\n",
    "display(style)\n",
    "display(out_dir)"
   ]
  },
  {
   "cell_type": "code",
   "execution_count": null,
   "metadata": {},
   "outputs": [],
   "source": [
    "print(basic_set_file.value)\n",
    "print(potential_file.value)\n",
    "print(xyz_file.value)\n",
    "print(accuracy.value)\n",
    "print(style.value)\n",
    "print(out_dir.value)\n"
   ]
  }
 ],
 "metadata": {
  "kernelspec": {
   "display_name": "Python 3 (ipykernel)",
   "language": "python",
   "name": "python3"
  },
  "language_info": {
   "codemirror_mode": {
    "name": "ipython",
    "version": 3
   },
   "file_extension": ".py",
   "mimetype": "text/x-python",
   "name": "python",
   "nbconvert_exporter": "python",
   "pygments_lexer": "ipython3",
   "version": "3.11.4"
  }
 },
 "nbformat": 4,
 "nbformat_minor": 2
}
