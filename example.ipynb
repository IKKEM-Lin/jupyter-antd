{
 "cells": [
  {
   "cell_type": "code",
   "execution_count": 1,
   "metadata": {},
   "outputs": [
    {
     "data": {
      "application/vnd.jupyter.widget-view+json": {
       "model_id": "4665e9a5d0d74bcd8cca88d6c2767e34",
       "version_major": 2,
       "version_minor": 0
      },
      "text/plain": [
       "Button(label='test', props={'type': 'default', 'size': 'large'})"
      ]
     },
     "execution_count": 1,
     "metadata": {},
     "output_type": "execute_result"
    }
   ],
   "source": [
    "# Button example\n",
    "from ja_py.button import Button\n",
    "\n",
    "def handle_click(x):\n",
    "    btn.label = \"1234\"\n",
    "    \n",
    "btn = Button(\"test\", handle_click, props={\"type\": \"default\", \"size\": \"large\"})\n",
    "btn"
   ]
  },
  {
   "cell_type": "code",
   "execution_count": 1,
   "metadata": {},
   "outputs": [
    {
     "data": {
      "application/vnd.jupyter.widget-view+json": {
       "model_id": "38e61a7b6e114e918dea52cfb4975004",
       "version_major": 2,
       "version_minor": 0
      },
      "text/plain": [
       "Input(label='test: ', props={'type': 'default', 'size': 'large'})"
      ]
     },
     "metadata": {},
     "output_type": "display_data"
    },
    {
     "data": {
      "application/vnd.jupyter.widget-view+json": {
       "model_id": "2353eaa894b14b55868f0f7229893295",
       "version_major": 2,
       "version_minor": 0
      },
      "text/plain": [
       "Input(props={'type': 'default', 'size': 'small'})"
      ]
     },
     "metadata": {},
     "output_type": "display_data"
    }
   ],
   "source": [
    "# Input example\n",
    "from ja_py.input import Input\n",
    "temp = Input(\"test: \", props={\"type\": \"default\", \"size\": \"large\"})\n",
    "temp2 = Input(props={\"type\": \"default\", \"size\": \"small\"})\n",
    "        \n",
    "display(temp)\n",
    "display(temp2)"
   ]
  },
  {
   "cell_type": "code",
   "execution_count": null,
   "metadata": {},
   "outputs": [],
   "source": [
    "# Radio example\n",
    "from ja_py.radio import Radio\n",
    "\n",
    "temp = Radio(\"test: \", [\"1\", \"2\", \"3\"])\n",
    "temp2 = Radio(\"\", [{\"label\": \"option 1\", \"value\": \"1\"}, {\"label\": \"option 2\", \"value\": \"2\"}],\"1\")\n",
    "        \n",
    "display(temp)\n",
    "display(temp2)"
   ]
  },
  {
   "cell_type": "code",
   "execution_count": null,
   "metadata": {},
   "outputs": [],
   "source": [
    "# Select example\n",
    "from ja_py.select import Select\n",
    "\n",
    "temp = Select(\"test: \", [{\"label\": \"op 1\", \"value\": \"1\"}, {\"label\": \"op 2\", \"value\": \"2\"}])\n",
    "temp2 = Select(\"\", [{\"label\": \"option 1\", \"value\": \"1\"}, {\"label\": \"option 2\", \"value\": \"2\"}],\"1\")\n",
    "        \n",
    "display(temp)\n",
    "display(temp2)"
   ]
  },
  {
   "cell_type": "code",
   "execution_count": 2,
   "metadata": {},
   "outputs": [
    {
     "data": {
      "application/vnd.jupyter.widget-view+json": {
       "model_id": "0bff1c2b5b82428d895fc0e5a9c82a01",
       "version_major": 2,
       "version_minor": 0
      },
      "text/plain": [
       "FileSelector(files=[{'name': '.git', 'isDir': True}, {'name': '.ipynb_checkpoints', 'isDir': True}, {'name': '…"
      ]
     },
     "metadata": {},
     "output_type": "display_data"
    },
    {
     "data": {
      "application/vnd.jupyter.widget-view+json": {
       "model_id": "172ec5ebf0df4eca9a7a6ef72bfa73d1",
       "version_major": 2,
       "version_minor": 0
      },
      "text/plain": [
       "FileSelector(dir_select=True, files=[{'name': '.git', 'isDir': True}, {'name': '.ipynb_checkpoints', 'isDir': …"
      ]
     },
     "metadata": {},
     "output_type": "display_data"
    }
   ],
   "source": [
    "# FileSelector example\n",
    "from ja_py.file_selector import FileSelector\n",
    "        \n",
    "temp = FileSelector(\"选择文件\")\n",
    "temp2 = FileSelector(\"选择文件夹\", dir_select = True)\n",
    "        \n",
    "display(temp)\n",
    "display(temp2)\n",
    "        "
   ]
  },
  {
   "cell_type": "code",
   "execution_count": null,
   "metadata": {},
   "outputs": [],
   "source": [
    "# test code below, plese ignore"
   ]
  },
  {
   "cell_type": "code",
   "execution_count": 5,
   "metadata": {},
   "outputs": [],
   "source": [
    "import pathlib\n",
    "import anywidget\n",
    "import traitlets\n",
    "import os"
   ]
  },
  {
   "cell_type": "code",
   "execution_count": 1,
   "metadata": {},
   "outputs": [
    {
     "data": {
      "application/vnd.jupyter.widget-view+json": {
       "model_id": "8aaf30193d444277b97304cb21c4dec1",
       "version_major": 2,
       "version_minor": 0
      },
      "text/plain": [
       "FileSelector(files=[{'name': '.git', 'isDir': True}, {'name': '.ipynb_checkpoints', 'isDir': True}, {'name': '…"
      ]
     },
     "metadata": {},
     "output_type": "display_data"
    },
    {
     "data": {
      "application/vnd.jupyter.widget-view+json": {
       "model_id": "c8f7b3bb85ec49ce9b1617025bbd8a3d",
       "version_major": 2,
       "version_minor": 0
      },
      "text/plain": [
       "FileSelector(dir_select=True, files=[{'name': '.git', 'isDir': True}, {'name': '.ipynb_checkpoints', 'isDir': …"
      ]
     },
     "metadata": {},
     "output_type": "display_data"
    }
   ],
   "source": [
    "from ja_py.file_selector import FileSelector\n",
    "\n",
    "    \n",
    "temp = FileSelector(\"选择文件\")\n",
    "temp2 = FileSelector(\"选择文件夹\", dir_select = True)\n",
    "        \n",
    "display(temp)\n",
    "display(temp2)"
   ]
  }
 ],
 "metadata": {
  "kernelspec": {
   "display_name": "Python 3 (ipykernel)",
   "language": "python",
   "name": "python3"
  },
  "language_info": {
   "codemirror_mode": {
    "name": "ipython",
    "version": 3
   },
   "file_extension": ".py",
   "mimetype": "text/x-python",
   "name": "python",
   "nbconvert_exporter": "python",
   "pygments_lexer": "ipython3",
   "version": "3.11.4"
  }
 },
 "nbformat": 4,
 "nbformat_minor": 2
}
