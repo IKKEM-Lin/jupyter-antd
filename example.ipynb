{
 "cells": [
  {
   "cell_type": "code",
   "execution_count": 175,
   "metadata": {},
   "outputs": [
    {
     "data": {
      "application/vnd.jupyter.widget-view+json": {
       "model_id": "dea311ce8e0d4c4b82c7b258881623e7",
       "version_major": 2,
       "version_minor": 0
      },
      "text/plain": [
       "FileUpload(value=(), accept='image/*', description='Upload')"
      ]
     },
     "metadata": {},
     "output_type": "display_data"
    },
    {
     "data": {
      "application/vnd.jupyter.widget-view+json": {
       "model_id": "85fe8de2fd8348cbbd6ba4261ec9da93",
       "version_major": 2,
       "version_minor": 0
      },
      "text/plain": [
       "FileUpload(value=(), accept='image/*', description='Upload')"
      ]
     },
     "metadata": {},
     "output_type": "display_data"
    },
    {
     "data": {
      "application/vnd.jupyter.widget-view+json": {
       "model_id": "61c9f27c737644349ebfdcc9f9af9c77",
       "version_major": 2,
       "version_minor": 0
      },
      "text/plain": [
       "FileUpload(value=(), accept='image/*', description='Upload')"
      ]
     },
     "metadata": {},
     "output_type": "display_data"
    },
    {
     "data": {
      "application/vnd.jupyter.widget-view+json": {
       "model_id": "f3d80b6f94c84134a85f4ed4d146e504",
       "version_major": 2,
       "version_minor": 0
      },
      "text/plain": [
       "FieldWidget()"
      ]
     },
     "execution_count": 175,
     "metadata": {},
     "output_type": "execute_result"
    }
   ],
   "source": [
    "import anywidget\n",
    "import traitlets\n",
    "from ipywidgets import widgets\n",
    "\n",
    "system_file_uploader = widgets.FileUpload(\n",
    "    accept='image/*',  # Accepted file extension e.g. '.txt', '.pdf', 'image/*', 'image/*,.pdf'\n",
    "    multiple=False  # True to accept multiple files upload else False\n",
    ")\n",
    "basic_set_file_uploader = widgets.FileUpload(\n",
    "    accept='image/*',  # Accepted file extension e.g. '.txt', '.pdf', 'image/*', 'image/*,.pdf'\n",
    "    multiple=False  # True to accept multiple files upload else False\n",
    ")\n",
    "potential_file_uploader = widgets.FileUpload(\n",
    "    accept='image/*',  # Accepted file extension e.g. '.txt', '.pdf', 'image/*', 'image/*,.pdf'\n",
    "    multiple=False  # True to accept multiple files upload else False\n",
    ")\n",
    "display(system_file_uploader)\n",
    "display(basic_set_file_uploader)\n",
    "display(potential_file_uploader)\n",
    "\n",
    "accuracy_options = ['high', 'medium', 'low']\n",
    "style_options = ['metal', 'liqu', 'gas']\n",
    "\n",
    "\n",
    "class FieldWidget(anywidget.AnyWidget):\n",
    "    _esm = \"\"\"\n",
    "        export function render({ model, el }) {\n",
    "\n",
    "          const outputEl = document.createElement('input');\n",
    "\n",
    "          outputEl.addEventListener('change', (e) => {\n",
    "            const value = e.target.value;\n",
    "            model.set('output', value);\n",
    "            model.save_changes();\n",
    "          });\n",
    "\n",
    "          model.on('change:output', () => {\n",
    "            outputEl.value = model.get('output');\n",
    "          });\n",
    "          el.appendChild(outputEl);\n",
    "          \n",
    "          //------------------------------------------------------------\n",
    "          \n",
    "          \n",
    "            const selectEl = document.createElement('select');\n",
    "            selectEl.innerHTML = `\n",
    "                <option value=\"high\">high</option>\n",
    "                <option value=\"medium\">medium</option>\n",
    "                <option value=\"low\">low</option>\n",
    "            `;\n",
    "\n",
    "            selectEl.addEventListener('change', (e) => {\n",
    "              const newSelect = e.target.value;\n",
    "                model.set('accuracy', newSelect);\n",
    "                model.save_changes();\n",
    "            })\n",
    "\n",
    "              model.on('change:accuracy', () => {\n",
    "                selectEl.value = model.get('accuracy');\n",
    "              });\n",
    "              el.appendChild(selectEl);\n",
    "          //------------------------------------------------------------\n",
    "          \n",
    "            const styleSelectEl = document.createElement('select');\n",
    "            styleSelectEl.innerHTML = `\n",
    "                <option value=\"metal\">metal</option>\n",
    "                <option value=\"liqu\">liqu</option>\n",
    "                <option value=\"gas\">gas</option>\n",
    "            `;\n",
    "\n",
    "            styleSelectEl.addEventListener('change', (e) => {\n",
    "              const newSelect = e.target.value;\n",
    "                model.set('style', newSelect);\n",
    "                model.save_changes();\n",
    "            })\n",
    "            \n",
    "              model.on('change:style', () => {\n",
    "                styleSelectEl.value = model.get('style');\n",
    "              });\n",
    "\n",
    "              el.appendChild(styleSelectEl);\n",
    "          //------------------------------------------------------------\n",
    "          \n",
    "              const button = document.createElement(\"button\");\n",
    "              button.innerHTML = \"start\"\n",
    "                button.addEventListener('click', (e) => {\n",
    "                    model.set('on_start', !model.get('on_start'));\n",
    "                    model.save_changes();\n",
    "                })\n",
    "              el.appendChild(button);\n",
    "              \n",
    "        }\n",
    "    \"\"\"\n",
    "    _css=\"\"\"\n",
    "    .counter-button { background-color: #ea580c; }\n",
    "    .counter-button:hover { background-color: #9a3412; }\n",
    "    \"\"\"\n",
    "    on_start = traitlets.Bool().tag(sync=True)\n",
    "    output = traitlets.Unicode(\"\").tag(sync=True)\n",
    "    accuracy = traitlets.CaselessStrEnum(values=accuracy_options, default_value=accuracy_options[0]).tag(sync=True)\n",
    "    style = traitlets.CaselessStrEnum(values=style_options, default_value=style_options[0]).tag(sync=True)\n",
    "\n",
    "    \n",
    "    \n",
    "counter = FieldWidget()\n",
    "# counter.output = 42\n",
    "\n",
    "def handle_slider_change(change):\n",
    "    counter.output = counter.accuracy\n",
    "\n",
    "counter.observe(handle_slider_change, names='on_start')\n",
    "\n",
    "counter"
   ]
  },
  {
   "cell_type": "code",
   "execution_count": 2,
   "metadata": {},
   "outputs": [
    {
     "name": "stdout",
     "output_type": "stream",
     "text": [
      "Name: anywidget\n",
      "Version: 0.7.0\n",
      "Summary: custom jupyter widgets made easy\n",
      "Home-page: \n",
      "Author: \n",
      "Author-email: Trevor Manz <trevor.j.manz@gmail.com>\n",
      "License: MIT\n",
      "Location: D:\\Users\\Mark-Lin\\miniconda3\\Lib\\site-packages\n",
      "Requires: ipywidgets, psygnal, typing-extensions\n",
      "Required-by: \n"
     ]
    }
   ],
   "source": [
    "! pip show anywidget"
   ]
  },
  {
   "cell_type": "code",
   "execution_count": 4,
   "metadata": {},
   "outputs": [
    {
     "data": {
      "application/vnd.jupyter.widget-view+json": {
       "model_id": "7d0d228e7bf74491b08cfbb0d3e911d4",
       "version_major": 2,
       "version_minor": 0
      },
      "text/plain": [
       "Button(label='test', props={'type': 'default', 'size': 'large'})"
      ]
     },
     "execution_count": 4,
     "metadata": {},
     "output_type": "execute_result"
    }
   ],
   "source": [
    "# Button example\n",
    "from ja_py.button import Button\n",
    "\n",
    "def handle_click(x):\n",
    "    btn.label = \"1234\"\n",
    "    \n",
    "btn = Button(\"test\", handle_click, props={\"type\": \"default\", \"size\": \"large\"})\n",
    "btn"
   ]
  },
  {
   "cell_type": "code",
   "execution_count": 5,
   "metadata": {},
   "outputs": [
    {
     "data": {
      "application/vnd.jupyter.widget-view+json": {
       "model_id": "c8976134b80948e58a975d109f686630",
       "version_major": 2,
       "version_minor": 0
      },
      "text/plain": [
       "Input(label='test: ', props={'type': 'default', 'size': 'large'})"
      ]
     },
     "metadata": {},
     "output_type": "display_data"
    },
    {
     "data": {
      "application/vnd.jupyter.widget-view+json": {
       "model_id": "d8917e407058444f8e32172326e961dd",
       "version_major": 2,
       "version_minor": 0
      },
      "text/plain": [
       "Input(props={'type': 'default', 'size': 'small'})"
      ]
     },
     "metadata": {},
     "output_type": "display_data"
    }
   ],
   "source": [
    "from ja_py.input import Input\n",
    "temp = Input(\"test: \", props={\"type\": \"default\", \"size\": \"large\"})\n",
    "temp2 = Input(props={\"type\": \"default\", \"size\": \"small\"})\n",
    "        \n",
    "display(temp)\n",
    "display(temp2)"
   ]
  },
  {
   "cell_type": "code",
   "execution_count": 252,
   "metadata": {},
   "outputs": [],
   "source": [
    "import pathlib\n",
    "import anywidget\n",
    "import traitlets\n"
   ]
  },
  {
   "cell_type": "code",
   "execution_count": 3,
   "metadata": {},
   "outputs": [
    {
     "data": {
      "application/vnd.jupyter.widget-view+json": {
       "model_id": "3062c3f68ad94da3914f3b144780a21c",
       "version_major": 2,
       "version_minor": 0
      },
      "text/plain": [
       "Input(label='test: ', props={'type': 'default', 'size': 'large'})"
      ]
     },
     "metadata": {},
     "output_type": "display_data"
    },
    {
     "data": {
      "application/vnd.jupyter.widget-view+json": {
       "model_id": "5a3150bcca464abf859b223a221bbb2c",
       "version_major": 2,
       "version_minor": 0
      },
      "text/plain": [
       "Input(props={'type': 'default', 'size': 'large'})"
      ]
     },
     "metadata": {},
     "output_type": "display_data"
    }
   ],
   "source": [
    "from ja_py.input import Input\n",
    "\n",
    "# ESM = pathlib.Path(\"./ja-fe/dist/input.js\")\n",
    "# CSS = \"\"  # (\"styles.css\").read_text()\n",
    "\n",
    "\n",
    "# class Input(anywidget.AnyWidget):\n",
    "#     _esm = ESM\n",
    "#     _css = CSS\n",
    "#     value = traitlets.Unicode(\"\").tag(sync=True)\n",
    "#     props = traitlets.Dict({}).tag(sync=True)\n",
    "\n",
    "#     # props ref: https://ant.design/components/input-cn#api\n",
    "#     def __init__(self, props={}):\n",
    "#         super(Input, self).__init__()\n",
    "#         self.props = props\n",
    "    \n",
    "temp = Input(\"test: \", props={\"type\": \"default\", \"size\": \"large\"})\n",
    "temp2 = Input(props={\"type\": \"default\", \"size\": \"large\"})\n",
    "        \n",
    "display(temp)\n",
    "display(temp2)"
   ]
  },
  {
   "cell_type": "code",
   "execution_count": 241,
   "metadata": {},
   "outputs": [
    {
     "name": "stdout",
     "output_type": "stream",
     "text": [
      "sdfase\n"
     ]
    }
   ],
   "source": [
    "# ss.setdefault(\"test\", 123)\n",
    "print(temp.value)"
   ]
  }
 ],
 "metadata": {
  "kernelspec": {
   "display_name": "Python 3 (ipykernel)",
   "language": "python",
   "name": "python3"
  },
  "language_info": {
   "codemirror_mode": {
    "name": "ipython",
    "version": 3
   },
   "file_extension": ".py",
   "mimetype": "text/x-python",
   "name": "python",
   "nbconvert_exporter": "python",
   "pygments_lexer": "ipython3",
   "version": "3.11.4"
  }
 },
 "nbformat": 4,
 "nbformat_minor": 2
}
