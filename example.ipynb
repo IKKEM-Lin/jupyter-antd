{
 "cells": [
  {
   "cell_type": "code",
   "execution_count": 1,
   "metadata": {},
   "outputs": [
    {
     "data": {
      "application/vnd.jupyter.widget-view+json": {
       "model_id": "ffc856c25cfd48eca305f33b3072b40c",
       "version_major": 2,
       "version_minor": 0
      },
      "text/plain": [
       "Button(label='test', props={'type': 'default', 'size': 'large'})"
      ]
     },
     "execution_count": 1,
     "metadata": {},
     "output_type": "execute_result"
    }
   ],
   "source": [
    "# Button example\n",
    "from ja_py.button import Button\n",
    "\n",
    "def handle_click(x):\n",
    "    btn.label = \"1234\"\n",
    "    \n",
    "btn = Button(\"test\", handle_click, props={\"type\": \"default\", \"size\": \"large\"})\n",
    "btn"
   ]
  },
  {
   "cell_type": "code",
   "execution_count": 2,
   "metadata": {},
   "outputs": [
    {
     "data": {
      "application/vnd.jupyter.widget-view+json": {
       "model_id": "c6ebaf03bec9476387eb079972d411c4",
       "version_major": 2,
       "version_minor": 0
      },
      "text/plain": [
       "Input(label='test: ', props={'type': 'default', 'size': 'large'})"
      ]
     },
     "metadata": {},
     "output_type": "display_data"
    },
    {
     "data": {
      "application/vnd.jupyter.widget-view+json": {
       "model_id": "11c314769f3e4df2993bab22116357f0",
       "version_major": 2,
       "version_minor": 0
      },
      "text/plain": [
       "Input(props={'type': 'default', 'size': 'small'})"
      ]
     },
     "metadata": {},
     "output_type": "display_data"
    }
   ],
   "source": [
    "# Input example\n",
    "from ja_py.input import Input\n",
    "temp = Input(\"test: \", props={\"type\": \"default\", \"size\": \"large\"})\n",
    "temp2 = Input(props={\"type\": \"default\", \"size\": \"small\"})\n",
    "        \n",
    "display(temp)\n",
    "display(temp2)"
   ]
  },
  {
   "cell_type": "code",
   "execution_count": 3,
   "metadata": {},
   "outputs": [
    {
     "data": {
      "application/vnd.jupyter.widget-view+json": {
       "model_id": "b43f12413e054b8ab85b46d72ba59c75",
       "version_major": 2,
       "version_minor": 0
      },
      "text/plain": [
       "Radio(label='test: ', options=['1', '2', '3'])"
      ]
     },
     "metadata": {},
     "output_type": "display_data"
    },
    {
     "data": {
      "application/vnd.jupyter.widget-view+json": {
       "model_id": "595fed97459e46589c33d595f8032dcd",
       "version_major": 2,
       "version_minor": 0
      },
      "text/plain": [
       "Radio(options=[{'label': 'option 1', 'value': '1'}, {'label': 'option 2', 'value': '2'}], value='1')"
      ]
     },
     "metadata": {},
     "output_type": "display_data"
    }
   ],
   "source": [
    "# Radio example\n",
    "from ja_py.radio import Radio\n",
    "\n",
    "temp = Radio(\"test: \", [\"1\", \"2\", \"3\"])\n",
    "temp2 = Radio(\"\", [{\"label\": \"option 1\", \"value\": \"1\"}, {\"label\": \"option 2\", \"value\": \"2\"}],\"1\")\n",
    "        \n",
    "display(temp)\n",
    "display(temp2)"
   ]
  },
  {
   "cell_type": "code",
   "execution_count": 12,
   "metadata": {},
   "outputs": [
    {
     "data": {
      "application/vnd.jupyter.widget-view+json": {
       "model_id": "457f6eb6b65d40f696562a7b97027301",
       "version_major": 2,
       "version_minor": 0
      },
      "text/plain": [
       "Select(label='test: ', options=[{'label': 'op 1', 'value': '1'}, {'label': 'op 2', 'value': '2'}])"
      ]
     },
     "metadata": {},
     "output_type": "display_data"
    },
    {
     "data": {
      "application/vnd.jupyter.widget-view+json": {
       "model_id": "68cde38da1e84601b1b9db03c0d0c2ad",
       "version_major": 2,
       "version_minor": 0
      },
      "text/plain": [
       "Select(options=[{'label': 'option 1', 'value': '1'}, {'label': 'option 2', 'value': '2'}], value='1')"
      ]
     },
     "metadata": {},
     "output_type": "display_data"
    }
   ],
   "source": [
    "# Select example\n",
    "from ja_py.select import Select\n",
    "\n",
    "temp = Select(\"test: \", [{\"label\": \"op 1\", \"value\": \"1\"}, {\"label\": \"op 2\", \"value\": \"2\"}])\n",
    "temp2 = Select(\"\", [{\"label\": \"option 1\", \"value\": \"1\"}, {\"label\": \"option 2\", \"value\": \"2\"}],\"1\")\n",
    "        \n",
    "display(temp)\n",
    "display(temp2)"
   ]
  },
  {
   "cell_type": "code",
   "execution_count": 5,
   "metadata": {},
   "outputs": [
    {
     "data": {
      "application/vnd.jupyter.widget-view+json": {
       "model_id": "181ced216882480e80da452001876bce",
       "version_major": 2,
       "version_minor": 0
      },
      "text/plain": [
       "FileSelector(files=[{'name': '.git', 'isDir': True}, {'name': '.ipynb_checkpoints', 'isDir': True}, {'name': '…"
      ]
     },
     "metadata": {},
     "output_type": "display_data"
    },
    {
     "data": {
      "application/vnd.jupyter.widget-view+json": {
       "model_id": "d97577046a564b41b959a646fdc7b310",
       "version_major": 2,
       "version_minor": 0
      },
      "text/plain": [
       "FileSelector(dir_select=True, files=[{'name': '.git', 'isDir': True}, {'name': '.ipynb_checkpoints', 'isDir': …"
      ]
     },
     "metadata": {},
     "output_type": "display_data"
    }
   ],
   "source": [
    "# FileSelector example\n",
    "from ja_py.file_selector import FileSelector\n",
    "        \n",
    "temp = FileSelector(\"选择文件\")\n",
    "temp2 = FileSelector(\"选择文件夹\", dir_select = True)\n",
    "        \n",
    "display(temp)\n",
    "display(temp2)\n",
    "        "
   ]
  },
  {
   "cell_type": "code",
   "execution_count": null,
   "metadata": {},
   "outputs": [],
   "source": [
    "# test code below, plese ignore"
   ]
  },
  {
   "cell_type": "code",
   "execution_count": 5,
   "metadata": {},
   "outputs": [],
   "source": [
    "import pathlib\n",
    "import anywidget\n",
    "import traitlets\n",
    "import os"
   ]
  },
  {
   "cell_type": "code",
   "execution_count": 15,
   "metadata": {},
   "outputs": [
    {
     "data": {
      "application/vnd.jupyter.widget-view+json": {
       "model_id": "55bb771a417d4fa28ae413f941a5df3d",
       "version_major": 2,
       "version_minor": 0
      },
      "text/plain": [
       "FileSelector(files=[{'name': '.git', 'isDir': True}, {'name': '.ipynb_checkpoints', 'isDir': True}, {'name': '…"
      ]
     },
     "metadata": {},
     "output_type": "display_data"
    },
    {
     "data": {
      "application/vnd.jupyter.widget-view+json": {
       "model_id": "cdbcfdcb124440c3a9634fd2b6d6fd6f",
       "version_major": 2,
       "version_minor": 0
      },
      "text/plain": [
       "FileSelector(files=[{'name': '.git', 'isDir': True}, {'name': '.ipynb_checkpoints', 'isDir': True}, {'name': '…"
      ]
     },
     "metadata": {},
     "output_type": "display_data"
    },
    {
     "data": {
      "application/vnd.jupyter.widget-view+json": {
       "model_id": "3eeaaf9d51e8453b8a86397f69563ab5",
       "version_major": 2,
       "version_minor": 0
      },
      "text/plain": [
       "FileSelector(files=[{'name': '.git', 'isDir': True}, {'name': '.ipynb_checkpoints', 'isDir': True}, {'name': '…"
      ]
     },
     "metadata": {},
     "output_type": "display_data"
    },
    {
     "data": {
      "application/vnd.jupyter.widget-view+json": {
       "model_id": "c33edc85c82f4f76acf32aadafb95049",
       "version_major": 2,
       "version_minor": 0
      },
      "text/plain": [
       "Radio(label='accuracy: ', options=['high', 'medium', 'low'], value='high')"
      ]
     },
     "metadata": {},
     "output_type": "display_data"
    },
    {
     "data": {
      "application/vnd.jupyter.widget-view+json": {
       "model_id": "1ad5e337fb054b9da52ac3e48f73cb71",
       "version_major": 2,
       "version_minor": 0
      },
      "text/plain": [
       "Radio(label='style: ', options=['metal', 'liquid', 'gas'], value='metal')"
      ]
     },
     "metadata": {},
     "output_type": "display_data"
    },
    {
     "data": {
      "application/vnd.jupyter.widget-view+json": {
       "model_id": "f450ab2ea3d44e3e96004a1b86f03afd",
       "version_major": 2,
       "version_minor": 0
      },
      "text/plain": [
       "FileSelector(dir_select=True, files=[{'name': '.git', 'isDir': True}, {'name': '.ipynb_checkpoints', 'isDir': …"
      ]
     },
     "metadata": {},
     "output_type": "display_data"
    }
   ],
   "source": [
    "import ja_py\n",
    "\n",
    "basic_set_file = ja_py.FileSelector(\"basic_set_file\")\n",
    "potential_file = ja_py.FileSelector(\"potential_file\")\n",
    "xyz_file = ja_py.FileSelector(\"xyz_file\")\n",
    "accuracy = ja_py.Radio(\"accuracy: \", [\"high\", \"medium\", \"low\"], default_value = \"high\")\n",
    "style = ja_py.Radio(\"style: \", [\"metal\", \"liquid\", \"gas\"], default_value = \"metal\")\n",
    "out_dir = ja_py.FileSelector(\"out_dir\", dir_select = True)\n",
    "        \n",
    "display(basic_set_file)\n",
    "display(potential_file)\n",
    "display(xyz_file)\n",
    "display(accuracy)\n",
    "display(style)\n",
    "display(out_dir)"
   ]
  },
  {
   "cell_type": "code",
   "execution_count": 21,
   "metadata": {},
   "outputs": [
    {
     "name": "stdout",
     "output_type": "stream",
     "text": [
      "C:\\Users\\Mark-Lin\\Desktop\\嘉庚工作相关\\jupyter-antd-widget\\README.md\n",
      "C:\\Users\\Mark-Lin\\Desktop\\嘉庚工作相关\\jupyter-antd-widget\\poetry.lock\n",
      "C:\\Users\\Mark-Lin\\Desktop\\嘉庚工作相关\\jupyter-antd-widget\\.gitignore\n",
      "low\n",
      "gas\n",
      "C:\\Users\\Mark-Lin\\Desktop\\嘉庚工作相关\\jupyter-antd-widget\\ja-fe\n"
     ]
    }
   ],
   "source": [
    "print(basic_set_file.value)\n",
    "print(potential_file.value)\n",
    "print(xyz_file.value)\n",
    "print(accuracy.value)\n",
    "print(style.value)\n",
    "print(out_dir.value)\n"
   ]
  },
  {
   "cell_type": "code",
   "execution_count": 4,
   "metadata": {},
   "outputs": [
    {
     "data": {
      "application/vnd.jupyter.widget-view+json": {
       "model_id": "e3291068321c4da3bed6f9a3b77f8fdd",
       "version_major": 2,
       "version_minor": 0
      },
      "text/plain": [
       "Formily(label='basic_set_file', schema={'type': 'object', 'properties': {'accuracy': {'type': 'string', 'title…"
      ]
     },
     "execution_count": 4,
     "metadata": {},
     "output_type": "execute_result"
    }
   ],
   "source": [
    "import ja_py\n",
    "\n",
    "temp = ja_py.Formily(\"basic_set_file\")\n",
    "temp"
   ]
  },
  {
   "cell_type": "code",
   "execution_count": 5,
   "metadata": {},
   "outputs": [
    {
     "data": {
      "text/plain": [
       "{'accuracy': 'low', 'style': 'gas'}"
      ]
     },
     "execution_count": 5,
     "metadata": {},
     "output_type": "execute_result"
    }
   ],
   "source": [
    "temp.value"
   ]
  }
 ],
 "metadata": {
  "kernelspec": {
   "display_name": "Python 3 (ipykernel)",
   "language": "python",
   "name": "python3"
  },
  "language_info": {
   "codemirror_mode": {
    "name": "ipython",
    "version": 3
   },
   "file_extension": ".py",
   "mimetype": "text/x-python",
   "name": "python",
   "nbconvert_exporter": "python",
   "pygments_lexer": "ipython3",
   "version": "3.11.4"
  }
 },
 "nbformat": 4,
 "nbformat_minor": 2
}
